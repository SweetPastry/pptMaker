{
 "cells": [
  {
   "cell_type": "code",
   "execution_count": 1,
   "metadata": {},
   "outputs": [],
   "source": [
    "import numpy as np        \n",
    "from scipy.integrate import solve_ivp              \n",
    "import matplotlib.pyplot as plt "
   ]
  },
  {
   "cell_type": "code",
   "execution_count": 2,
   "metadata": {},
   "outputs": [],
   "source": [
    "g = 9.81\n",
    "l = 1\n",
    "gamma = 0.02\n",
    "beta = 0.005\n",
    "\n",
    "theta_0 = 0.2\n",
    "theta_dot_0 = 0\n",
    "phi_0 = 0.4\n",
    "phi_dot_0 = 0\n",
    "\n",
    "variable_list_0 = [theta_0, theta_dot_0, phi_0, phi_dot_0]"
   ]
  },
  {
   "cell_type": "code",
   "execution_count": 3,
   "metadata": {},
   "outputs": [],
   "source": [
    "def equations(t, variable_list):\n",
    "\n",
    "    theta, theta_dot, phi, phi_dot = variable_list\n",
    "\n",
    "    matrix_A = np.array([[1+2*beta*(1-np.cos(phi)), -beta*(1-np.cos(phi))],\n",
    "                         [beta*(1-np.cos(phi)),     -beta                ]])\n",
    "    \n",
    "    vector_B = np.array([-beta*np.sin(phi)*(phi_dot**2-2*theta_dot*phi_dot),\n",
    "                         beta*theta_dot**2*np.sin(phi)                     ])\n",
    "                         \n",
    "    vector_C = np.array([beta*g/l*(np.sin(theta-phi-gamma)-np.sin(theta-gamma)-g/l*np.sin(theta-gamma)),\n",
    "                         beta*g/l*np.sin(theta-phi-gamma)])\n",
    "\n",
    "    theta_ddot, phi_ddot = np.linalg.solve(matrix_A, -vector_B-vector_C)\n",
    "    \n",
    "    return [theta_dot, theta_ddot, phi_dot, phi_ddot]\n",
    "\n",
    "def equatuons_simplest(t, variable_list):\n",
    "\n",
    "    theta, theta_dot, phi, phi_dot = variable_list\n",
    "\n",
    "    theta_ddot = np.sin(theta - gamma)\n",
    "    phi_ddot = theta_ddot + theta_dot**2*np.sin(phi) - np.cos(theta - gamma)*np.sin(phi)\n",
    "\n",
    "    return [theta_dot, theta_ddot, phi_dot, phi_ddot]"
   ]
  },
  {
   "cell_type": "code",
   "execution_count": 4,
   "metadata": {},
   "outputs": [],
   "source": [
    "def heelstrike_event_and_change_defination(t, variable_list):\n",
    "\n",
    "     theta, theta_dot, phi, phi_dot = variable_list\n",
    "\n",
    "     matrix_Change = np.array([[-1, 0,                                   0, 0],\n",
    "                               [0,  np.cos(2*theta),                     0, 0],\n",
    "                               [-2,  0,                                  0, 0],\n",
    "                               [0,  np.cos(2*theta)*(1-np.cos(2*theta)), 0, 0]])\n",
    "     \n",
    "     variable_matrix = np.array([[theta],\n",
    "                                 [theta_dot],\n",
    "                                 [phi],\n",
    "                                 [phi_dot]])    \n",
    "\n",
    "     result_matrix = np.dot(matrix_Change, variable_matrix)\n",
    "\n",
    "     theta = result_matrix[0, 0]\n",
    "     theta_dot = result_matrix[1, 0]\n",
    "     phi = result_matrix[2, 0]\n",
    "     phi_dot = result_matrix[3, 0]\n",
    "\n",
    "     return [theta, theta_dot, phi, phi_dot]"
   ]
  },
  {
   "cell_type": "code",
   "execution_count": null,
   "metadata": {},
   "outputs": [],
   "source": [
    "def monitor(t, variable_list):\n",
    "    theta, theta_dot, phi, phi_dot = variable_list\n",
    "    return phi - 2*theta\n",
    "\n",
    "monitor.terminal = True\n",
    "monitor.direction = -1"
   ]
  }
 ],
 "metadata": {
  "kernelspec": {
   "display_name": "jupyter-notebook",
   "language": "python",
   "name": "python3"
  },
  "language_info": {
   "codemirror_mode": {
    "name": "ipython",
    "version": 3
   },
   "file_extension": ".py",
   "mimetype": "text/x-python",
   "name": "python",
   "nbconvert_exporter": "python",
   "pygments_lexer": "ipython3",
   "version": "3.7.12"
  }
 },
 "nbformat": 4,
 "nbformat_minor": 2
}
